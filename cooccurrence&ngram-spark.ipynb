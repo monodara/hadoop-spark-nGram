{
  "nbformat": 4,
  "nbformat_minor": 0,
  "metadata": {
    "colab": {
      "provenance": [],
      "collapsed_sections": [
        "me-JJVNn6fiS",
        "FnLQv3tmNjqX",
        "-WJwVC4IQggn"
      ]
    },
    "kernelspec": {
      "name": "python3",
      "display_name": "Python 3"
    },
    "language_info": {
      "name": "python"
    }
  },
  "cells": [
    {
      "cell_type": "markdown",
      "source": [
        "The first part is data preparation and spark setting up."
      ],
      "metadata": {
        "id": "L0xbeGBh6OTo"
      }
    },
    {
      "cell_type": "markdown",
      "source": [
        "# **Prepare & Set up**"
      ],
      "metadata": {
        "id": "me-JJVNn6fiS"
      }
    },
    {
      "cell_type": "markdown",
      "source": [
        "## **Data collection.**\n",
        "\n",
        "---\n",
        "\n"
      ],
      "metadata": {
        "id": "FnLQv3tmNjqX"
      }
    },
    {
      "cell_type": "code",
      "execution_count": 1,
      "metadata": {
        "id": "IZSWLOlQSlwZ"
      },
      "outputs": [],
      "source": [
        "# Create a folder only when it does not exist.\n",
        "%mkdir -p wikipedia-ml-raw"
      ]
    },
    {
      "cell_type": "code",
      "source": [
        "# Create a script\n",
        "%%file main.sh\n",
        "#!/bin/bash\n",
        "\n",
        "# Give the path of the file as first argument to the script:\n",
        "input=\"$1\" \n",
        "\n",
        "while IFS= read -r var \n",
        "do\n",
        "  # Get each id\n",
        "  id=`echo $var` \n",
        "  link=\"https://en.wikipedia.org/w/index.php?title=Machine_learning&oldid=$id\"\n",
        "  downloadname=\"index.php?title=Machine_learning&oldid=$id.html\"\n",
        "  filename=\"wikipedia-ml-raw/machine-learning-$id.html\"\n",
        "  echo $filename\n",
        "  # Download the file from wikipedia\n",
        "  wget -E $link\n",
        "  # Move the downloaded file to the specific directory and rename it\n",
        "  mv $downloadname $filename\n",
        "done <\"$input\""
      ],
      "metadata": {
        "colab": {
          "base_uri": "https://localhost:8080/"
        },
        "id": "RX680u21DAsT",
        "outputId": "d8f33991-cd1f-448b-8f0e-880b46ddd540"
      },
      "execution_count": 2,
      "outputs": [
        {
          "output_type": "stream",
          "name": "stdout",
          "text": [
            "Writing main.sh\n"
          ]
        }
      ]
    },
    {
      "cell_type": "code",
      "source": [
        "# Run the script\n",
        "!bash main.sh article-ids.txt"
      ],
      "metadata": {
        "id": "vndeSo6XCj7l",
        "colab": {
          "base_uri": "https://localhost:8080/"
        },
        "outputId": "f118a81e-9ece-42f1-c65e-071088294747"
      },
      "execution_count": 4,
      "outputs": [
        {
          "output_type": "stream",
          "name": "stdout",
          "text": [
            "wikipedia-ml-raw/machine-learning-530966344.html\n",
            "--2023-04-30 10:09:14--  https://en.wikipedia.org/w/index.php?title=Machine_learning&oldid=530966344\n",
            "Resolving en.wikipedia.org (en.wikipedia.org)... 208.80.153.224, 2620:0:860:ed1a::1\n",
            "Connecting to en.wikipedia.org (en.wikipedia.org)|208.80.153.224|:443... connected.\n",
            "HTTP request sent, awaiting response... 200 OK\n",
            "Length: unspecified [text/html]\n",
            "Saving to: ‘index.php?title=Machine_learning&oldid=530966344.html’\n",
            "\n",
            "index.php?title=Mac     [ <=>                ] 127.78K  --.-KB/s    in 0.1s    \n",
            "\n",
            "2023-04-30 10:09:14 (1.15 MB/s) - ‘index.php?title=Machine_learning&oldid=530966344.html’ saved [130843]\n",
            "\n",
            "wikipedia-ml-raw/machine-learning-561799120.html\n",
            "--2023-04-30 10:09:14--  https://en.wikipedia.org/w/index.php?title=Machine_learning&oldid=561799120\n",
            "Resolving en.wikipedia.org (en.wikipedia.org)... 208.80.153.224, 2620:0:860:ed1a::1\n",
            "Connecting to en.wikipedia.org (en.wikipedia.org)|208.80.153.224|:443... connected.\n",
            "HTTP request sent, awaiting response... 200 OK\n",
            "Length: unspecified [text/html]\n",
            "Saving to: ‘index.php?title=Machine_learning&oldid=561799120.html’\n",
            "\n",
            "index.php?title=Mac     [ <=>                ] 127.36K  --.-KB/s    in 0.1s    \n",
            "\n",
            "2023-04-30 10:09:15 (1.17 MB/s) - ‘index.php?title=Machine_learning&oldid=561799120.html’ saved [130419]\n",
            "\n",
            "wikipedia-ml-raw/machine-learning-589188932.html\n",
            "--2023-04-30 10:09:15--  https://en.wikipedia.org/w/index.php?title=Machine_learning&oldid=589188932\n",
            "Resolving en.wikipedia.org (en.wikipedia.org)... 208.80.153.224, 2620:0:860:ed1a::1\n",
            "Connecting to en.wikipedia.org (en.wikipedia.org)|208.80.153.224|:443... connected.\n",
            "HTTP request sent, awaiting response... 200 OK\n",
            "Length: unspecified [text/html]\n",
            "Saving to: ‘index.php?title=Machine_learning&oldid=589188932.html’\n",
            "\n",
            "index.php?title=Mac     [ <=>                ] 155.04K  --.-KB/s    in 0.1s    \n",
            "\n",
            "2023-04-30 10:09:15 (1.28 MB/s) - ‘index.php?title=Machine_learning&oldid=589188932.html’ saved [158757]\n",
            "\n",
            "wikipedia-ml-raw/machine-learning-611596476.html\n",
            "--2023-04-30 10:09:15--  https://en.wikipedia.org/w/index.php?title=Machine_learning&oldid=611596476\n",
            "Resolving en.wikipedia.org (en.wikipedia.org)... 208.80.153.224, 2620:0:860:ed1a::1\n",
            "Connecting to en.wikipedia.org (en.wikipedia.org)|208.80.153.224|:443... connected.\n",
            "HTTP request sent, awaiting response... 200 OK\n",
            "Length: unspecified [text/html]\n",
            "Saving to: ‘index.php?title=Machine_learning&oldid=611596476.html’\n",
            "\n",
            "index.php?title=Mac     [ <=>                ] 157.98K  --.-KB/s    in 0.1s    \n",
            "\n",
            "2023-04-30 10:09:15 (1.30 MB/s) - ‘index.php?title=Machine_learning&oldid=611596476.html’ saved [161771]\n",
            "\n",
            "wikipedia-ml-raw/machine-learning-640893447.html\n",
            "--2023-04-30 10:09:15--  https://en.wikipedia.org/w/index.php?title=Machine_learning&oldid=640893447\n",
            "Resolving en.wikipedia.org (en.wikipedia.org)... 208.80.153.224, 2620:0:860:ed1a::1\n",
            "Connecting to en.wikipedia.org (en.wikipedia.org)|208.80.153.224|:443... connected.\n",
            "HTTP request sent, awaiting response... 200 OK\n",
            "Length: unspecified [text/html]\n",
            "Saving to: ‘index.php?title=Machine_learning&oldid=640893447.html’\n",
            "\n",
            "index.php?title=Mac     [ <=>                ] 174.92K  --.-KB/s    in 0.1s    \n",
            "\n",
            "2023-04-30 10:09:16 (1.38 MB/s) - ‘index.php?title=Machine_learning&oldid=640893447.html’ saved [179120]\n",
            "\n",
            "wikipedia-ml-raw/machine-learning-669305018.html\n",
            "--2023-04-30 10:09:16--  https://en.wikipedia.org/w/index.php?title=Machine_learning&oldid=669305018\n",
            "Resolving en.wikipedia.org (en.wikipedia.org)... 208.80.153.224, 2620:0:860:ed1a::1\n",
            "Connecting to en.wikipedia.org (en.wikipedia.org)|208.80.153.224|:443... connected.\n",
            "HTTP request sent, awaiting response... 200 OK\n",
            "Length: unspecified [text/html]\n",
            "Saving to: ‘index.php?title=Machine_learning&oldid=669305018.html’\n",
            "\n",
            "index.php?title=Mac     [ <=>                ] 181.99K  --.-KB/s    in 0.1s    \n",
            "\n",
            "2023-04-30 10:09:16 (1.41 MB/s) - ‘index.php?title=Machine_learning&oldid=669305018.html’ saved [186355]\n",
            "\n",
            "wikipedia-ml-raw/machine-learning-697788566.html\n",
            "--2023-04-30 10:09:16--  https://en.wikipedia.org/w/index.php?title=Machine_learning&oldid=697788566\n",
            "Resolving en.wikipedia.org (en.wikipedia.org)... 208.80.153.224, 2620:0:860:ed1a::1\n",
            "Connecting to en.wikipedia.org (en.wikipedia.org)|208.80.153.224|:443... connected.\n",
            "HTTP request sent, awaiting response... 200 OK\n",
            "Length: unspecified [text/html]\n",
            "Saving to: ‘index.php?title=Machine_learning&oldid=697788566.html’\n",
            "\n",
            "index.php?title=Mac     [ <=>                ] 186.01K  --.-KB/s    in 0.1s    \n",
            "\n",
            "2023-04-30 10:09:16 (1.43 MB/s) - ‘index.php?title=Machine_learning&oldid=697788566.html’ saved [190475]\n",
            "\n",
            "wikipedia-ml-raw/machine-learning-727649049.html\n",
            "--2023-04-30 10:09:16--  https://en.wikipedia.org/w/index.php?title=Machine_learning&oldid=727649049\n",
            "Resolving en.wikipedia.org (en.wikipedia.org)... 208.80.153.224, 2620:0:860:ed1a::1\n",
            "Connecting to en.wikipedia.org (en.wikipedia.org)|208.80.153.224|:443... connected.\n",
            "HTTP request sent, awaiting response... 200 OK\n",
            "Length: unspecified [text/html]\n",
            "Saving to: ‘index.php?title=Machine_learning&oldid=727649049.html’\n",
            "\n",
            "index.php?title=Mac     [ <=>                ] 192.04K  --.-KB/s    in 0.1s    \n",
            "\n",
            "2023-04-30 10:09:17 (1.45 MB/s) - ‘index.php?title=Machine_learning&oldid=727649049.html’ saved [196646]\n",
            "\n",
            "wikipedia-ml-raw/machine-learning-757727579.html\n",
            "--2023-04-30 10:09:17--  https://en.wikipedia.org/w/index.php?title=Machine_learning&oldid=757727579\n",
            "Resolving en.wikipedia.org (en.wikipedia.org)... 208.80.153.224, 2620:0:860:ed1a::1\n",
            "Connecting to en.wikipedia.org (en.wikipedia.org)|208.80.153.224|:443... connected.\n",
            "HTTP request sent, awaiting response... 200 OK\n",
            "Length: unspecified [text/html]\n",
            "Saving to: ‘index.php?title=Machine_learning&oldid=757727579.html’\n",
            "\n",
            "index.php?title=Mac     [ <=>                ] 205.29K  --.-KB/s    in 0.1s    \n",
            "\n",
            "2023-04-30 10:09:17 (1.50 MB/s) - ‘index.php?title=Machine_learning&oldid=757727579.html’ saved [210212]\n",
            "\n",
            "wikipedia-ml-raw/machine-learning-788095566.html\n",
            "--2023-04-30 10:09:17--  https://en.wikipedia.org/w/index.php?title=Machine_learning&oldid=788095566\n",
            "Resolving en.wikipedia.org (en.wikipedia.org)... 208.80.153.224, 2620:0:860:ed1a::1\n",
            "Connecting to en.wikipedia.org (en.wikipedia.org)|208.80.153.224|:443... connected.\n",
            "HTTP request sent, awaiting response... 200 OK\n",
            "Length: unspecified [text/html]\n",
            "Saving to: ‘index.php?title=Machine_learning&oldid=788095566.html’\n",
            "\n",
            "index.php?title=Mac     [ <=>                ] 212.05K  --.-KB/s    in 0.1s    \n",
            "\n",
            "2023-04-30 10:09:17 (1.54 MB/s) - ‘index.php?title=Machine_learning&oldid=788095566.html’ saved [217139]\n",
            "\n",
            "wikipedia-ml-raw/machine-learning-818847631.html\n",
            "--2023-04-30 10:09:17--  https://en.wikipedia.org/w/index.php?title=Machine_learning&oldid=818847631\n",
            "Resolving en.wikipedia.org (en.wikipedia.org)... 208.80.153.224, 2620:0:860:ed1a::1\n",
            "Connecting to en.wikipedia.org (en.wikipedia.org)|208.80.153.224|:443... connected.\n",
            "HTTP request sent, awaiting response... 200 OK\n",
            "Length: unspecified [text/html]\n",
            "Saving to: ‘index.php?title=Machine_learning&oldid=818847631.html’\n",
            "\n",
            "index.php?title=Mac     [ <=>                ] 220.86K  --.-KB/s    in 0.1s    \n",
            "\n",
            "2023-04-30 10:09:18 (1.58 MB/s) - ‘index.php?title=Machine_learning&oldid=818847631.html’ saved [226161]\n",
            "\n",
            "wikipedia-ml-raw/machine-learning-848001726.html\n",
            "--2023-04-30 10:09:18--  https://en.wikipedia.org/w/index.php?title=Machine_learning&oldid=848001726\n",
            "Resolving en.wikipedia.org (en.wikipedia.org)... 208.80.153.224, 2620:0:860:ed1a::1\n",
            "Connecting to en.wikipedia.org (en.wikipedia.org)|208.80.153.224|:443... connected.\n",
            "HTTP request sent, awaiting response... 200 OK\n",
            "Length: unspecified [text/html]\n",
            "Saving to: ‘index.php?title=Machine_learning&oldid=848001726.html’\n",
            "\n",
            "index.php?title=Mac     [ <=>                ] 268.73K  --.-KB/s    in 0.1s    \n",
            "\n",
            "2023-04-30 10:09:18 (1.77 MB/s) - ‘index.php?title=Machine_learning&oldid=848001726.html’ saved [275178]\n",
            "\n",
            "wikipedia-ml-raw/machine-learning-876474031.html\n",
            "--2023-04-30 10:09:18--  https://en.wikipedia.org/w/index.php?title=Machine_learning&oldid=876474031\n",
            "Resolving en.wikipedia.org (en.wikipedia.org)... 208.80.153.224, 2620:0:860:ed1a::1\n",
            "Connecting to en.wikipedia.org (en.wikipedia.org)|208.80.153.224|:443... connected.\n",
            "HTTP request sent, awaiting response... 200 OK\n",
            "Length: unspecified [text/html]\n",
            "Saving to: ‘index.php?title=Machine_learning&oldid=876474031.html’\n",
            "\n",
            "index.php?title=Mac     [ <=>                ] 323.52K  1.98MB/s    in 0.2s    \n",
            "\n",
            "2023-04-30 10:09:18 (1.98 MB/s) - ‘index.php?title=Machine_learning&oldid=876474031.html’ saved [331280]\n",
            "\n",
            "wikipedia-ml-raw/machine-learning-903232737.html\n",
            "--2023-04-30 10:09:18--  https://en.wikipedia.org/w/index.php?title=Machine_learning&oldid=903232737\n",
            "Resolving en.wikipedia.org (en.wikipedia.org)... 208.80.153.224, 2620:0:860:ed1a::1\n",
            "Connecting to en.wikipedia.org (en.wikipedia.org)|208.80.153.224|:443... connected.\n",
            "HTTP request sent, awaiting response... 200 OK\n",
            "Length: unspecified [text/html]\n",
            "Saving to: ‘index.php?title=Machine_learning&oldid=903232737.html’\n",
            "\n",
            "index.php?title=Mac     [ <=>                ] 321.00K  1.97MB/s    in 0.2s    \n",
            "\n",
            "2023-04-30 10:09:19 (1.97 MB/s) - ‘index.php?title=Machine_learning&oldid=903232737.html’ saved [328700]\n",
            "\n",
            "wikipedia-ml-raw/machine-learning-934837523.html\n",
            "--2023-04-30 10:09:19--  https://en.wikipedia.org/w/index.php?title=Machine_learning&oldid=934837523\n",
            "Resolving en.wikipedia.org (en.wikipedia.org)... 208.80.153.224, 2620:0:860:ed1a::1\n",
            "Connecting to en.wikipedia.org (en.wikipedia.org)|208.80.153.224|:443... connected.\n",
            "HTTP request sent, awaiting response... 200 OK\n",
            "Length: unspecified [text/html]\n",
            "Saving to: ‘index.php?title=Machine_learning&oldid=934837523.html’\n",
            "\n",
            "index.php?title=Mac     [ <=>                ] 331.70K  2.01MB/s    in 0.2s    \n",
            "\n",
            "2023-04-30 10:09:19 (2.01 MB/s) - ‘index.php?title=Machine_learning&oldid=934837523.html’ saved [339657]\n",
            "\n",
            "wikipedia-ml-raw/machine-learning-965344897.html\n",
            "--2023-04-30 10:09:19--  https://en.wikipedia.org/w/index.php?title=Machine_learning&oldid=965344897\n",
            "Resolving en.wikipedia.org (en.wikipedia.org)... 208.80.153.224, 2620:0:860:ed1a::1\n",
            "Connecting to en.wikipedia.org (en.wikipedia.org)|208.80.153.224|:443... connected.\n",
            "HTTP request sent, awaiting response... 200 OK\n",
            "Length: unspecified [text/html]\n",
            "Saving to: ‘index.php?title=Machine_learning&oldid=965344897.html’\n",
            "\n",
            "index.php?title=Mac     [ <=>                ] 347.62K  2.06MB/s    in 0.2s    \n",
            "\n",
            "2023-04-30 10:09:19 (2.06 MB/s) - ‘index.php?title=Machine_learning&oldid=965344897.html’ saved [355968]\n",
            "\n",
            "wikipedia-ml-raw/machine-learning-999142720.html\n",
            "--2023-04-30 10:09:19--  https://en.wikipedia.org/w/index.php?title=Machine_learning&oldid=999142720\n",
            "Resolving en.wikipedia.org (en.wikipedia.org)... 208.80.153.224, 2620:0:860:ed1a::1\n",
            "Connecting to en.wikipedia.org (en.wikipedia.org)|208.80.153.224|:443... connected.\n",
            "HTTP request sent, awaiting response... 200 OK\n",
            "Length: unspecified [text/html]\n",
            "Saving to: ‘index.php?title=Machine_learning&oldid=999142720.html’\n",
            "\n",
            "index.php?title=Mac     [ <=>                ] 399.79K  2.26MB/s    in 0.2s    \n",
            "\n",
            "2023-04-30 10:09:20 (2.26 MB/s) - ‘index.php?title=Machine_learning&oldid=999142720.html’ saved [409388]\n",
            "\n",
            "wikipedia-ml-raw/machine-learning-1029354622.html\n",
            "--2023-04-30 10:09:20--  https://en.wikipedia.org/w/index.php?title=Machine_learning&oldid=1029354622\n",
            "Resolving en.wikipedia.org (en.wikipedia.org)... 208.80.153.224, 2620:0:860:ed1a::1\n",
            "Connecting to en.wikipedia.org (en.wikipedia.org)|208.80.153.224|:443... connected.\n",
            "HTTP request sent, awaiting response... 200 OK\n",
            "Length: unspecified [text/html]\n",
            "Saving to: ‘index.php?title=Machine_learning&oldid=1029354622.html’\n",
            "\n",
            "index.php?title=Mac     [ <=>                ] 418.74K  2.34MB/s    in 0.2s    \n",
            "\n",
            "2023-04-30 10:09:20 (2.34 MB/s) - ‘index.php?title=Machine_learning&oldid=1029354622.html’ saved [428785]\n",
            "\n",
            "wikipedia-ml-raw/machine-learning-1063409105.html\n",
            "--2023-04-30 10:09:20--  https://en.wikipedia.org/w/index.php?title=Machine_learning&oldid=1063409105\n",
            "Resolving en.wikipedia.org (en.wikipedia.org)... 208.80.153.224, 2620:0:860:ed1a::1\n",
            "Connecting to en.wikipedia.org (en.wikipedia.org)|208.80.153.224|:443... connected.\n",
            "HTTP request sent, awaiting response... 200 OK\n",
            "Length: unspecified [text/html]\n",
            "Saving to: ‘index.php?title=Machine_learning&oldid=1063409105.html’\n",
            "\n",
            "index.php?title=Mac     [ <=>                ] 429.82K  2.38MB/s    in 0.2s    \n",
            "\n",
            "2023-04-30 10:09:20 (2.38 MB/s) - ‘index.php?title=Machine_learning&oldid=1063409105.html’ saved [440139]\n",
            "\n",
            "wikipedia-ml-raw/machine-learning-1095436080.html\n",
            "--2023-04-30 10:09:20--  https://en.wikipedia.org/w/index.php?title=Machine_learning&oldid=1095436080\n",
            "Resolving en.wikipedia.org (en.wikipedia.org)... 208.80.153.224, 2620:0:860:ed1a::1\n",
            "Connecting to en.wikipedia.org (en.wikipedia.org)|208.80.153.224|:443... connected.\n",
            "HTTP request sent, awaiting response... 200 OK\n",
            "Length: unspecified [text/html]\n",
            "Saving to: ‘index.php?title=Machine_learning&oldid=1095436080.html’\n",
            "\n",
            "index.php?title=Mac     [ <=>                ] 458.28K  2.49MB/s    in 0.2s    \n",
            "\n",
            "2023-04-30 10:09:21 (2.49 MB/s) - ‘index.php?title=Machine_learning&oldid=1095436080.html’ saved [469279]\n",
            "\n",
            "wikipedia-ml-raw/machine-learning-1130883349.html\n",
            "--2023-04-30 10:09:21--  https://en.wikipedia.org/w/index.php?title=Machine_learning&oldid=1130883349\n",
            "Resolving en.wikipedia.org (en.wikipedia.org)... 208.80.153.224, 2620:0:860:ed1a::1\n",
            "Connecting to en.wikipedia.org (en.wikipedia.org)|208.80.153.224|:443... connected.\n",
            "HTTP request sent, awaiting response... 200 OK\n",
            "Length: unspecified [text/html]\n",
            "Saving to: ‘index.php?title=Machine_learning&oldid=1130883349.html’\n",
            "\n",
            "index.php?title=Mac     [ <=>                ] 467.09K  2.51MB/s    in 0.2s    \n",
            "\n",
            "2023-04-30 10:09:21 (2.51 MB/s) - ‘index.php?title=Machine_learning&oldid=1130883349.html’ saved [478298]\n",
            "\n",
            "wikipedia-ml-raw/machine-learning-.html\n",
            "--2023-04-30 10:09:21--  https://en.wikipedia.org/w/index.php?title=Machine_learning&oldid=\n",
            "Resolving en.wikipedia.org (en.wikipedia.org)... 208.80.153.224, 2620:0:860:ed1a::1\n",
            "Connecting to en.wikipedia.org (en.wikipedia.org)|208.80.153.224|:443... connected.\n",
            "HTTP request sent, awaiting response... 200 OK\n",
            "Length: unspecified [text/html]\n",
            "Saving to: ‘index.php?title=Machine_learning&oldid=.html’\n",
            "\n",
            "index.php?title=Mac     [ <=>                ] 499.05K  2.63MB/s    in 0.2s    \n",
            "\n",
            "2023-04-30 10:09:22 (2.63 MB/s) - ‘index.php?title=Machine_learning&oldid=.html’ saved [511024]\n",
            "\n"
          ]
        }
      ]
    },
    {
      "cell_type": "code",
      "source": [
        "# Run the parse_article script\n",
        "!bash parse_article.sh"
      ],
      "metadata": {
        "colab": {
          "base_uri": "https://localhost:8080/"
        },
        "id": "hG4EPdkFFflS",
        "outputId": "88ab7355-17f4-4d94-f765-d56fd3fb1f97"
      },
      "execution_count": 5,
      "outputs": [
        {
          "output_type": "stream",
          "name": "stdout",
          "text": [
            "Looking in indexes: https://pypi.org/simple, https://us-python.pkg.dev/colab-wheels/public/simple/\n",
            "Requirement already satisfied: beautifulsoup4 in /usr/local/lib/python3.10/dist-packages (4.11.2)\n",
            "Requirement already satisfied: soupsieve>1.2 in /usr/local/lib/python3.10/dist-packages (from beautifulsoup4) (2.4.1)\n"
          ]
        }
      ]
    },
    {
      "cell_type": "markdown",
      "source": [
        "## **Set up Spark & PySpark**"
      ],
      "metadata": {
        "id": "-WJwVC4IQggn"
      }
    },
    {
      "cell_type": "code",
      "source": [
        "!apt-get install openjdk-8-jdk-headless -qq > /dev/null\n",
        "!wget https://archive.apache.org/dist/spark/spark-3.3.1/spark-3.3.1-bin-hadoop3.tgz\n",
        "!tar xf spark-3.3.1-bin-hadoop3.tgz\n",
        "!rm spark-3.3.1-bin-hadoop3.tgz   # Tidying up\n",
        "# Setting up environmental variables: \n",
        "import os\n",
        "os.environ[\"JAVA_HOME\"] = \"/usr/lib/jvm/java-8-openjdk-amd64\"\n",
        "os.environ[\"SPARK_HOME\"] = \"/content/spark-3.3.1-bin-hadoop3\""
      ],
      "metadata": {
        "id": "cakk0di0Ql89",
        "colab": {
          "base_uri": "https://localhost:8080/"
        },
        "outputId": "ff6a0bd4-afe0-4bb7-908a-b42a18bbd2f3"
      },
      "execution_count": 6,
      "outputs": [
        {
          "output_type": "stream",
          "name": "stdout",
          "text": [
            "--2023-04-30 10:10:01--  https://archive.apache.org/dist/spark/spark-3.3.1/spark-3.3.1-bin-hadoop3.tgz\n",
            "Resolving archive.apache.org (archive.apache.org)... 138.201.131.134, 2a01:4f8:172:2ec5::2\n",
            "Connecting to archive.apache.org (archive.apache.org)|138.201.131.134|:443... connected.\n",
            "HTTP request sent, awaiting response... 200 OK\n",
            "Length: 299350810 (285M) [application/x-gzip]\n",
            "Saving to: ‘spark-3.3.1-bin-hadoop3.tgz’\n",
            "\n",
            "spark-3.3.1-bin-had 100%[===================>] 285.48M  4.96MB/s    in 53s     \n",
            "\n",
            "2023-04-30 10:10:54 (5.42 MB/s) - ‘spark-3.3.1-bin-hadoop3.tgz’ saved [299350810/299350810]\n",
            "\n"
          ]
        }
      ]
    },
    {
      "cell_type": "code",
      "source": [
        "# install the findpark library to locate Spark\n",
        "!pip install -q findspark\n",
        "import findspark\n",
        "findspark.init()"
      ],
      "metadata": {
        "id": "X8WgTVIOUe4O"
      },
      "execution_count": 7,
      "outputs": []
    },
    {
      "cell_type": "code",
      "source": [
        "# import SparkSession from pyspark.sql to create entry point to Spark.\n",
        "from pyspark.sql import SparkSession\n",
        "spark = SparkSession.builder.master(\"local[*]\").getOrCreate()\n",
        "spark.conf.set(\"spark.sql.repl.eagerEval.enabled\", True) #  This will format our output tables a bit nicer when not using the show() method"
      ],
      "metadata": {
        "id": "dtQuR5ehVXRo"
      },
      "execution_count": 8,
      "outputs": []
    },
    {
      "cell_type": "code",
      "source": [
        "# Create SparkContext:\n",
        "sc = spark.sparkContext"
      ],
      "metadata": {
        "id": "pN8fUuRfV2-Z"
      },
      "execution_count": 9,
      "outputs": []
    },
    {
      "cell_type": "markdown",
      "source": [
        "# **Data Processing with Spark**"
      ],
      "metadata": {
        "id": "_z5NHeY2NzWK"
      }
    },
    {
      "cell_type": "markdown",
      "source": [
        "## **Co-occurrence MapReduce with Spark**"
      ],
      "metadata": {
        "id": "ToUlQWJo05DS"
      }
    },
    {
      "cell_type": "code",
      "source": [
        "# Read stopwords\n",
        "stopwords = sc.textFile(\"stopwords.txt\").flatMap(lambda line: line.split()).collect()"
      ],
      "metadata": {
        "id": "aj8nw_-smbYX"
      },
      "execution_count": 10,
      "outputs": []
    },
    {
      "cell_type": "code",
      "source": [
        "# Define a function to filter refs\n",
        "def is_article(title):\n",
        "  return \"article\" in title"
      ],
      "metadata": {
        "id": "Xrw_HMctJd39"
      },
      "execution_count": 11,
      "outputs": []
    },
    {
      "cell_type": "code",
      "source": [
        "# Read all files in the folder \"wikipedia-ml\"\n",
        "all_file_rdd = sc.wholeTextFiles(\"wikipedia-ml\")"
      ],
      "metadata": {
        "id": "avBIVaMt2QSz"
      },
      "execution_count": 12,
      "outputs": []
    },
    {
      "cell_type": "code",
      "source": [
        "# Remove refs\n",
        "all_article_rdd = all_file_rdd.filter(lambda x: is_article(x[0]))"
      ],
      "metadata": {
        "id": "sgitbG4KKECi"
      },
      "execution_count": 13,
      "outputs": []
    },
    {
      "cell_type": "code",
      "source": [
        "# Get all articles' paths\n",
        "all_article_paths_rdd = all_article_rdd.map(lambda x: x[0])"
      ],
      "metadata": {
        "id": "oZvfh-qAeffL"
      },
      "execution_count": 14,
      "outputs": []
    },
    {
      "cell_type": "code",
      "source": [
        "print(all_article_paths_rdd.collect())"
      ],
      "metadata": {
        "colab": {
          "base_uri": "https://localhost:8080/"
        },
        "id": "LmNWkGy4IoJD",
        "outputId": "5d1d8eaa-3a05-48fc-fdf7-bc2b3d3e495a"
      },
      "execution_count": 15,
      "outputs": [
        {
          "output_type": "stream",
          "name": "stdout",
          "text": [
            "['file:/content/wikipedia-ml/article_Machine learning - Wikipedia_2016_1_1.txt', 'file:/content/wikipedia-ml/article_Machine learning - Wikipedia_2014_6_4.txt', 'file:/content/wikipedia-ml/article_Machine learning - Wikipedia_2017_6_29.txt', 'file:/content/wikipedia-ml/article_Machine learning - Wikipedia_2017_1_1.txt', 'file:/content/wikipedia-ml/article_Machine learning - Wikipedia_2019_1_2.txt', 'file:/content/wikipedia-ml/article_Machine learning - Wikipedia_2014_1_4.txt', 'file:/content/wikipedia-ml/article_Machine learning - Wikipedia_2023_4_29.txt', 'file:/content/wikipedia-ml/article_Machine learning - Wikipedia_2013_6_27.txt', 'file:/content/wikipedia-ml/article_Machine learning - Wikipedia_2013_1_2.txt', 'file:/content/wikipedia-ml/article_Machine learning - Wikipedia_2016_6_30.txt', 'file:/content/wikipedia-ml/article_Machine learning - Wikipedia_2021_6_19.txt', 'file:/content/wikipedia-ml/article_Machine learning - Wikipedia_2022_6_28.txt', 'file:/content/wikipedia-ml/article_Machine learning - Wikipedia_2018_6_29.txt', 'file:/content/wikipedia-ml/article_Machine learning - Wikipedia_2015_1_4.txt', 'file:/content/wikipedia-ml/article_Machine learning - Wikipedia_2023_1_1.txt', 'file:/content/wikipedia-ml/article_Machine learning - Wikipedia_2015_6_30.txt', 'file:/content/wikipedia-ml/article_Machine learning - Wikipedia_2021_1_8.txt', 'file:/content/wikipedia-ml/article_Machine learning - Wikipedia_2018_1_5.txt', 'file:/content/wikipedia-ml/article_Machine learning - Wikipedia_2019_6_24.txt', 'file:/content/wikipedia-ml/article_Machine learning - Wikipedia_2020_1_8.txt', 'file:/content/wikipedia-ml/article_Machine learning - Wikipedia_2022_1_2.txt', 'file:/content/wikipedia-ml/article_Machine learning - Wikipedia_2020_6_30.txt']\n"
          ]
        }
      ]
    },
    {
      "cell_type": "code",
      "source": [
        "# Use a dictionary to store RDDs of every year\n",
        "year_rdd_dict = {}"
      ],
      "metadata": {
        "id": "OioriICKf6vN"
      },
      "execution_count": 16,
      "outputs": []
    },
    {
      "cell_type": "code",
      "source": [
        "# Define a method to get the years of the articles\n",
        "def get_year(title):\n",
        "  date_info = title.split(\"-\")[2]\n",
        "  year = date_info.split(\"_\")[1]\n",
        "  return year"
      ],
      "metadata": {
        "id": "nkemh8cH5XBv"
      },
      "execution_count": 17,
      "outputs": []
    },
    {
      "cell_type": "code",
      "source": [
        "# Extract every year when there's articles collected\n",
        "all_year = all_article_rdd.map(lambda x: get_year(x[0])).distinct()"
      ],
      "metadata": {
        "id": "xMiYtkpoVilC"
      },
      "execution_count": 18,
      "outputs": []
    },
    {
      "cell_type": "code",
      "source": [
        "# Define a function for removing punctuations\n",
        "def lower_clean_str(x):\n",
        "  punc='!\"#$%&()*+,-./:;<=>?@[\\\\]^_`{|}~'\n",
        "  lowercased_str = x.lower()\n",
        "  for ch in punc:\n",
        "    lowercased_str = lowercased_str.replace(ch, '')\n",
        "  return lowercased_str\n",
        "\n",
        "# Define a function for filtering stopwords\n",
        "def not_stopwords(word):\n",
        "  return not(word in stopwords)"
      ],
      "metadata": {
        "id": "MmX-vbaiZ5I5"
      },
      "execution_count": 19,
      "outputs": []
    },
    {
      "cell_type": "code",
      "source": [
        "import itertools\n",
        "for article_path in all_article_paths_rdd.collect():\n",
        "  # Read one article as an RDD:\n",
        "  text_rdd = sc.textFile(article_path)\n",
        "  # compute the co-occurrence RDD\n",
        "  co_occur_rdd = text_rdd.map(lambda line: lower_clean_str(line).split()) \\\n",
        "                  .flatMap(lambda word: itertools.combinations(word, 2)) \\\n",
        "                  .filter(lambda comb: not_stopwords(comb[0]) and not_stopwords(comb[1])) \\\n",
        "                  .filter(lambda comb: comb[0] != comb[1]) \\\n",
        "                  .filter(lambda comb: len(comb[0]) > 1 and len(comb[1]) > 1) \\\n",
        "                  .map(lambda comb: (comb, 1))\n",
        "                  \n",
        "  # Store RDDs to the dictionary {year, RDD-union}\n",
        "  article_year = get_year(article_path)\n",
        "  if(not(article_year in year_rdd_dict)):\n",
        "    year_rdd_dict[article_year] = co_occur_rdd\n",
        "  else:\n",
        "    unioned_rdd = year_rdd_dict[article_year].union(co_occur_rdd)\n",
        "    year_rdd_dict[article_year] = unioned_rdd\n"
      ],
      "metadata": {
        "id": "uJOZLv7bhGfI"
      },
      "execution_count": 20,
      "outputs": []
    },
    {
      "cell_type": "code",
      "source": [
        "# create dataframe for each year and compute top ten co-occurances\n",
        "for year in year_rdd_dict:\n",
        "  print(year)\n",
        "  rdd = year_rdd_dict[year].reduceByKey(lambda x, y: x + y)\n",
        "  # Create dataframe\n",
        "  columns = [\"word_0\", \"word_1\", \"count\"]\n",
        "  df = rdd.map(lambda l: (l[0][0],l[0][1],l[1])).toDF(columns)\n",
        "  df.orderBy(\"count\",ascending=False).show(10)"
      ],
      "metadata": {
        "id": "i3y15vfAnEpk",
        "colab": {
          "base_uri": "https://localhost:8080/"
        },
        "outputId": "d54ab3b1-70c9-48c1-d875-bc54ddea0a46"
      },
      "execution_count": 21,
      "outputs": [
        {
          "output_type": "stream",
          "name": "stdout",
          "text": [
            "2016\n",
            "+----------+----------+-----+\n",
            "|    word_0|    word_1|count|\n",
            "+----------+----------+-----+\n",
            "|   machine|  learning|  129|\n",
            "|  learning|      data|   83|\n",
            "|  learning|algorithms|   72|\n",
            "|   machine|      data|   50|\n",
            "|  learning|   machine|   45|\n",
            "|  learning|  training|   44|\n",
            "|  learning|       can|   41|\n",
            "|algorithms|  learning|   38|\n",
            "|  learning| knowledge|   36|\n",
            "|  learning|      time|   36|\n",
            "+----------+----------+-----+\n",
            "only showing top 10 rows\n",
            "\n",
            "2014\n",
            "+----------+--------------+-----+\n",
            "|    word_0|        word_1|count|\n",
            "+----------+--------------+-----+\n",
            "|  learning|          data|   68|\n",
            "|   machine|      learning|   67|\n",
            "|  learning|    algorithms|   55|\n",
            "|  learning|representation|   40|\n",
            "|  learning|           can|   39|\n",
            "|algorithms|representation|   38|\n",
            "|  learning|     knowledge|   36|\n",
            "|algorithms|      learning|   35|\n",
            "|   machine|          data|   34|\n",
            "|algorithms|      features|   33|\n",
            "+----------+--------------+-----+\n",
            "only showing top 10 rows\n",
            "\n",
            "2017\n",
            "+--------+----------+-----+\n",
            "|  word_0|    word_1|count|\n",
            "+--------+----------+-----+\n",
            "| machine|  learning|  206|\n",
            "|learning|      data|  129|\n",
            "| machine|      data|   92|\n",
            "|learning|   machine|   79|\n",
            "|learning|algorithms|   78|\n",
            "|learning| knowledge|   76|\n",
            "|    data|  learning|   75|\n",
            "|    data|   methods|   62|\n",
            "|    data| knowledge|   60|\n",
            "|learning|  training|   58|\n",
            "+--------+----------+-----+\n",
            "only showing top 10 rows\n",
            "\n",
            "2019\n",
            "+----------+----------+-----+\n",
            "|    word_0|    word_1|count|\n",
            "+----------+----------+-----+\n",
            "|   machine|  learning|  386|\n",
            "|  learning|      data|  283|\n",
            "|      data|  learning|  218|\n",
            "|  learning|   machine|  209|\n",
            "|  learning|algorithms|  207|\n",
            "|algorithms|  learning|  205|\n",
            "|   machine|      data|  172|\n",
            "|  learning|  training|  142|\n",
            "|      data|   machine|  119|\n",
            "|      data|  training|  119|\n",
            "+----------+----------+-----+\n",
            "only showing top 10 rows\n",
            "\n",
            "2023\n",
            "+--------+----------+-----+\n",
            "|  word_0|    word_1|count|\n",
            "+--------+----------+-----+\n",
            "| machine|  learning|  550|\n",
            "|learning|      data|  320|\n",
            "|learning|   machine|  294|\n",
            "|    data|  learning|  262|\n",
            "| machine|      data|  218|\n",
            "|    data|   machine|  172|\n",
            "|learning|  training|  166|\n",
            "|learning|algorithms|  160|\n",
            "|    data|  training|  140|\n",
            "|learning|       can|  124|\n",
            "+--------+----------+-----+\n",
            "only showing top 10 rows\n",
            "\n",
            "2013\n",
            "+----------+--------------+-----+\n",
            "|    word_0|        word_1|count|\n",
            "+----------+--------------+-----+\n",
            "|  learning|          data|   64|\n",
            "|   machine|      learning|   64|\n",
            "|  learning|    algorithms|   60|\n",
            "|  learning|representation|   50|\n",
            "|algorithms|representation|   48|\n",
            "|  learning|           can|   40|\n",
            "|algorithms|      features|   39|\n",
            "|algorithms|      learning|   39|\n",
            "|      data|      learning|   34|\n",
            "|  learning|      features|   33|\n",
            "+----------+--------------+-----+\n",
            "only showing top 10 rows\n",
            "\n",
            "2021\n",
            "+--------+----------+-----+\n",
            "|  word_0|    word_1|count|\n",
            "+--------+----------+-----+\n",
            "| machine|  learning|  447|\n",
            "|learning|      data|  273|\n",
            "|learning|   machine|  227|\n",
            "|    data|  learning|  210|\n",
            "| machine|      data|  171|\n",
            "|learning|algorithms|  171|\n",
            "|learning|  training|  164|\n",
            "|    data|  training|  141|\n",
            "|    data|   machine|  128|\n",
            "|training|      data|  122|\n",
            "+--------+----------+-----+\n",
            "only showing top 10 rows\n",
            "\n",
            "2022\n",
            "+--------+----------+-----+\n",
            "|  word_0|    word_1|count|\n",
            "+--------+----------+-----+\n",
            "| machine|  learning|  518|\n",
            "|learning|      data|  310|\n",
            "|learning|   machine|  287|\n",
            "|    data|  learning|  252|\n",
            "| machine|      data|  204|\n",
            "|learning|algorithms|  169|\n",
            "|learning|  training|  166|\n",
            "|    data|   machine|  162|\n",
            "|    data|  training|  142|\n",
            "|training|      data|  124|\n",
            "+--------+----------+-----+\n",
            "only showing top 10 rows\n",
            "\n",
            "2018\n",
            "+--------+----------+-----+\n",
            "|  word_0|    word_1|count|\n",
            "+--------+----------+-----+\n",
            "| machine|  learning|  227|\n",
            "|learning|      data|  134|\n",
            "| machine|      data|   98|\n",
            "|learning|   machine|   89|\n",
            "|    data|  learning|   80|\n",
            "|learning|algorithms|   78|\n",
            "|learning| knowledge|   76|\n",
            "|    data|   methods|   62|\n",
            "|    data| knowledge|   60|\n",
            "| machine| knowledge|   56|\n",
            "+--------+----------+-----+\n",
            "only showing top 10 rows\n",
            "\n",
            "2015\n",
            "+--------+----------+-----+\n",
            "|  word_0|    word_1|count|\n",
            "+--------+----------+-----+\n",
            "| machine|  learning|  115|\n",
            "|learning|      data|   76|\n",
            "|learning|algorithms|   64|\n",
            "| machine|      data|   45|\n",
            "|learning|       can|   41|\n",
            "|learning|   machine|   37|\n",
            "|learning|      time|   36|\n",
            "|learning|  training|   36|\n",
            "|learning| knowledge|   36|\n",
            "|learning|   methods|   33|\n",
            "+--------+----------+-----+\n",
            "only showing top 10 rows\n",
            "\n",
            "2020\n",
            "+----------+----------+-----+\n",
            "|    word_0|    word_1|count|\n",
            "+----------+----------+-----+\n",
            "|   machine|  learning|  416|\n",
            "|  learning|      data|  271|\n",
            "|  learning|   machine|  222|\n",
            "|      data|  learning|  210|\n",
            "|  learning|algorithms|  181|\n",
            "|  learning|  training|  160|\n",
            "|   machine|      data|  156|\n",
            "|algorithms|  learning|  139|\n",
            "|      data|  training|  127|\n",
            "|      data|   machine|  119|\n",
            "+----------+----------+-----+\n",
            "only showing top 10 rows\n",
            "\n"
          ]
        }
      ]
    },
    {
      "cell_type": "markdown",
      "source": [
        "## **n-gram MapReduce with Spark**"
      ],
      "metadata": {
        "id": "xHwl16Ds0pC7"
      }
    },
    {
      "cell_type": "code",
      "source": [
        "# n-gram function\n",
        "def generate_ngram(word_list, n):\n",
        "  ngram_list = []\n",
        "  for i in range(0, len(word_list)-n+1):\n",
        "    n_gram = (word_list[i],word_list[i+1],word_list[i+2])\n",
        "    ngram_list.append(n_gram)\n",
        "  return ngram_list"
      ],
      "metadata": {
        "id": "ash9N1akyRk6"
      },
      "execution_count": 22,
      "outputs": []
    },
    {
      "cell_type": "code",
      "source": [
        "year_ngram_rdd_dict = {}"
      ],
      "metadata": {
        "id": "ODH9AISK1PX2"
      },
      "execution_count": 23,
      "outputs": []
    },
    {
      "cell_type": "code",
      "source": [
        "for article_path in all_article_paths_rdd.collect():\n",
        "  # Read one article as an RDD:\n",
        "  text_rdd = sc.textFile(article_path)\n",
        "  # compute the 3-gram RDD\n",
        "  ngram_rdd = text_rdd.map(lambda line: lower_clean_str(line).split()) \\\n",
        "                       .flatMap(lambda word_list: generate_ngram(word_list, 3)) \\\n",
        "                       .map(lambda ngram: (ngram, 1))\n",
        "                  \n",
        "  # Store RDDs to the dictionary {year, RDD-union}\n",
        "  article_year = get_year(article_path)\n",
        "  if(not(article_year in year_ngram_rdd_dict)):\n",
        "    year_ngram_rdd_dict[article_year] = ngram_rdd\n",
        "  else:\n",
        "    unioned_rdd = year_ngram_rdd_dict[article_year].union(ngram_rdd)\n",
        "    year_ngram_rdd_dict[article_year] = unioned_rdd"
      ],
      "metadata": {
        "id": "-Mpg-Urp1C45"
      },
      "execution_count": 24,
      "outputs": []
    },
    {
      "cell_type": "code",
      "source": [
        "for year in year_ngram_rdd_dict:\n",
        "  print(year)\n",
        "  rdd = year_ngram_rdd_dict[year].reduceByKey(lambda x, y: x + y)\n",
        "  # Create dataframe\n",
        "  columns = [\"word_0\", \"word_1\", \"word_2\", \"count\"]\n",
        "  df = rdd.map(lambda l: (l[0][0],l[0][1],l[0][2],l[1])).toDF(columns)\n",
        "  df.orderBy(\"count\",ascending=False).show(10)"
      ],
      "metadata": {
        "colab": {
          "base_uri": "https://localhost:8080/"
        },
        "id": "VfRuffI712qd",
        "outputId": "bc3f9dc6-f261-4424-9707-8ce5bfec31e5"
      },
      "execution_count": 25,
      "outputs": [
        {
          "output_type": "stream",
          "name": "stdout",
          "text": [
            "2016\n",
            "+-------------+----------+----------+-----+\n",
            "|       word_0|    word_1|    word_2|count|\n",
            "+-------------+----------+----------+-----+\n",
            "|           of|   machine|  learning|   13|\n",
            "|      machine|  learning|        is|   11|\n",
            "|            a|       set|        of|   10|\n",
            "|       sparse|dictionary|  learning|    8|\n",
            "|      machine|  learning|algorithms|    6|\n",
            "|           in|polynomial|      time|    6|\n",
            "|         been|   applied|        in|    6|\n",
            "|         with|   respect|        to|    6|\n",
            "|   algorithms|   attempt|        to|    6|\n",
            "|computational|  learning|    theory|    6|\n",
            "+-------------+----------+----------+-----+\n",
            "only showing top 10 rows\n",
            "\n",
            "2014\n",
            "+-------------+----------+----------+-----+\n",
            "|       word_0|    word_1|    word_2|count|\n",
            "+-------------+----------+----------+-----+\n",
            "|           of|   machine|  learning|   12|\n",
            "|            a|       set|        of|   10|\n",
            "|      machine|  learning|algorithms|    7|\n",
            "|       sparse|dictionary|  learning|    7|\n",
            "|           in|polynomial|      time|    6|\n",
            "|   algorithms|   attempt|        to|    6|\n",
            "|computational|  learning|    theory|    6|\n",
            "|         with|   respect|        to|    6|\n",
            "|           be|      used|        to|    6|\n",
            "|           be|   learned|        in|    4|\n",
            "+-------------+----------+----------+-----+\n",
            "only showing top 10 rows\n",
            "\n",
            "2017\n",
            "+----------+----------+----------+-----+\n",
            "|    word_0|    word_1|    word_2|count|\n",
            "+----------+----------+----------+-----+\n",
            "|   machine|  learning|        is|   16|\n",
            "|         a|       set|        of|   15|\n",
            "|        of|   machine|  learning|   13|\n",
            "|   machine|  learning|algorithms|    8|\n",
            "|    sparse|dictionary|  learning|    8|\n",
            "|  learning|        is|         a|    7|\n",
            "|        in|polynomial|      time|    6|\n",
            "|algorithms|   attempt|        to|    6|\n",
            "|      with|   respect|        to|    6|\n",
            "|      been|   applied|        in|    6|\n",
            "+----------+----------+----------+-----+\n",
            "only showing top 10 rows\n",
            "\n",
            "2019\n",
            "+----------+--------+----------+-----+\n",
            "|    word_0|  word_1|    word_2|count|\n",
            "+----------+--------+----------+-----+\n",
            "|         a|     set|        of|   30|\n",
            "|        of| machine|  learning|   20|\n",
            "|   machine|learning|algorithms|   20|\n",
            "|   machine|learning|        is|   13|\n",
            "|       the|training|      data|   12|\n",
            "|        of|       a|       set|   12|\n",
            "|       can|      be|      used|   12|\n",
            "|algorithms|     are|      used|   12|\n",
            "|        in|     the|      data|   12|\n",
            "|       set|      of|      data|   11|\n",
            "+----------+--------+----------+-----+\n",
            "only showing top 10 rows\n",
            "\n",
            "2023\n",
            "+-------+--------+----------+-----+\n",
            "| word_0|  word_1|    word_2|count|\n",
            "+-------+--------+----------+-----+\n",
            "|     of| machine|  learning|   34|\n",
            "|      a|     set|        of|   26|\n",
            "|machine|learning|algorithms|   16|\n",
            "|machine|learning|        is|   16|\n",
            "|      a| machine|  learning|   14|\n",
            "|machine|learning|    models|   12|\n",
            "|    the|   field|        of|   12|\n",
            "|     in| machine|  learning|   12|\n",
            "|     in|addition|        to|   10|\n",
            "|     of|       a|       set|   10|\n",
            "+-------+--------+----------+-----+\n",
            "only showing top 10 rows\n",
            "\n",
            "2013\n",
            "+-------------+----------+----------+-----+\n",
            "|       word_0|    word_1|    word_2|count|\n",
            "+-------------+----------+----------+-----+\n",
            "|            a|       set|        of|   11|\n",
            "|           of|   machine|  learning|   10|\n",
            "|      machine|  learning|algorithms|    6|\n",
            "|       sparse|dictionary|  learning|    6|\n",
            "|   algorithms|   attempt|        to|    6|\n",
            "|computational|  learning|    theory|    6|\n",
            "|           in|polynomial|      time|    6|\n",
            "|         with|   respect|        to|    6|\n",
            "|           be|      used|        to|    6|\n",
            "|           be|   learned|        in|    4|\n",
            "+-------------+----------+----------+-----+\n",
            "only showing top 10 rows\n",
            "\n",
            "2021\n",
            "+---------+--------+----------+-----+\n",
            "|   word_0|  word_1|    word_2|count|\n",
            "+---------+--------+----------+-----+\n",
            "|       of| machine|  learning|   27|\n",
            "|        a|     set|        of|   23|\n",
            "|  machine|learning|algorithms|   17|\n",
            "|  machine|learning|        is|   15|\n",
            "|        a| machine|  learning|   14|\n",
            "|      the|   field|        of|   12|\n",
            "|       in| machine|  learning|   10|\n",
            "|rulebased| machine|  learning|   10|\n",
            "|       in|addition|        to|   10|\n",
            "|      the|training|      data|   10|\n",
            "+---------+--------+----------+-----+\n",
            "only showing top 10 rows\n",
            "\n",
            "2022\n",
            "+---------+--------+----------+-----+\n",
            "|   word_0|  word_1|    word_2|count|\n",
            "+---------+--------+----------+-----+\n",
            "|       of| machine|  learning|   32|\n",
            "|        a|     set|        of|   24|\n",
            "|  machine|learning|        is|   17|\n",
            "|  machine|learning|algorithms|   16|\n",
            "|        a| machine|  learning|   14|\n",
            "|      the|   field|        of|   12|\n",
            "|      the|training|      data|   10|\n",
            "|rulebased| machine|  learning|   10|\n",
            "|       in|addition|        to|   10|\n",
            "|       of|       a|       set|   10|\n",
            "+---------+--------+----------+-----+\n",
            "only showing top 10 rows\n",
            "\n",
            "2018\n",
            "+----------+----------+----------+-----+\n",
            "|    word_0|    word_1|    word_2|count|\n",
            "+----------+----------+----------+-----+\n",
            "|   machine|  learning|        is|   19|\n",
            "|         a|       set|        of|   16|\n",
            "|        of|   machine|  learning|   14|\n",
            "|    sparse|dictionary|  learning|    8|\n",
            "|   machine|  learning|algorithms|    8|\n",
            "|  learning|        is|         a|    8|\n",
            "|       the|     field|        of|    7|\n",
            "|        in|  addition|        to|    6|\n",
            "|        in|polynomial|      time|    6|\n",
            "|algorithms|   attempt|        to|    6|\n",
            "+----------+----------+----------+-----+\n",
            "only showing top 10 rows\n",
            "\n",
            "2015\n",
            "+----------+----------+----------+-----+\n",
            "|    word_0|    word_1|    word_2|count|\n",
            "+----------+----------+----------+-----+\n",
            "|        of|   machine|  learning|   12|\n",
            "|         a|       set|        of|   10|\n",
            "|   machine|  learning|        is|    8|\n",
            "|    sparse|dictionary|  learning|    8|\n",
            "|   machine|  learning|algorithms|    6|\n",
            "|        in|polynomial|      time|    6|\n",
            "|      been|   applied|        in|    6|\n",
            "|      with|   respect|        to|    6|\n",
            "|   machine|  learning|       and|    6|\n",
            "|algorithms|   attempt|        to|    6|\n",
            "+----------+----------+----------+-----+\n",
            "only showing top 10 rows\n",
            "\n",
            "2020\n",
            "+---------+--------+----------+-----+\n",
            "|   word_0|  word_1|    word_2|count|\n",
            "+---------+--------+----------+-----+\n",
            "|        a|     set|        of|   26|\n",
            "|       of| machine|  learning|   22|\n",
            "|  machine|learning|algorithms|   18|\n",
            "|  machine|learning|        is|   12|\n",
            "|      the|   field|        of|   11|\n",
            "|      the|training|      data|   11|\n",
            "|       in| machine|  learning|   11|\n",
            "|      can|      be|      used|   11|\n",
            "|rulebased| machine|  learning|   10|\n",
            "|       in|     the|      data|   10|\n",
            "+---------+--------+----------+-----+\n",
            "only showing top 10 rows\n",
            "\n"
          ]
        }
      ]
    }
  ]
}